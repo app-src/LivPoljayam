{
 "cells": [
  {
   "cell_type": "code",
   "execution_count": null,
   "metadata": {},
   "outputs": [],
   "source": [
    "import pytesseract \n",
    "import requests\n",
    "import base64\n",
    "import json\n",
    "import cv2\n"
   ]
  },
  {
   "cell_type": "code",
   "execution_count": null,
   "metadata": {},
   "outputs": [],
   "source": [
    "\n",
    "def get_captcha_data():\n",
    "    captcha_data = None\n",
    "\n",
    "    url = 'https://gateway-voters.eci.gov.in/api/v1/captcha-service/generateCaptcha' \n",
    "\n",
    "    headers = {\n",
    "    'Accept': 'application/json, text/plain, */*',\n",
    "    'Origin': 'https://electoralsearch.eci.gov.in',\n",
    "    'appName': 'ELECTORAL_SEARCH'\n",
    "    }\n",
    "    \n",
    "    try:\n",
    "        response = requests.get(url, headers=headers)\n",
    "    \n",
    "\n",
    "        data = json.loads(response.text)\n",
    "\n",
    "        if data['status'] == 'Success' and data['statusCode'] == 200:\n",
    "            captcha_data = {\n",
    "                'captcha': data['captcha'],\n",
    "                'id': data['id']\n",
    "            }\n",
    "            # print(captcha_data)\n",
    "        else:\n",
    "            print(\"Invalid response\")\n",
    "    except Exception as e:\n",
    "        print(str(e))\n",
    "        return None    \n",
    "    return captcha_data    "
   ]
  },
  {
   "cell_type": "code",
   "execution_count": null,
   "metadata": {},
   "outputs": [],
   "source": [
    "def get_code(base64_image):\n",
    "\n",
    "    # Decode the base64 string\n",
    "    image_data = base64.b64decode(base64_image)\n",
    "\n",
    "    # Write the binary data to a file\n",
    "    with open('captcha_image.jpg', 'wb') as file:\n",
    "        file.write(image_data)\n",
    "\n",
    "    print(\"Image saved as captcha_image.jpg\")\n",
    "\n",
    "    img = cv2.imread('captcha_image.jpg') \n",
    "    text = pytesseract.image_to_string(img)\n",
    "\n",
    "    return text.lower()\n"
   ]
  },
  {
   "cell_type": "code",
   "execution_count": null,
   "metadata": {},
   "outputs": [],
   "source": [
    "\n",
    "def get_voter_info(epicno, captcha_id, captcha_data):\n",
    "    url = 'https://gateway.eci.gov.in/api/v1/elastic/search-by-epic-from-national-display'\n",
    "\n",
    "    headers = {\n",
    "        'Accept': 'application/json, text/plain, */*',\n",
    "        'Content-Type': 'application/json',\n",
    "        'Origin': 'https://electoralsearch.eci.gov.in',\n",
    "        'applicationName': 'ELECTORAL_SEARCH',\n",
    "    }\n",
    "\n",
    "    data = {\n",
    "        \"isPortal\": True,\n",
    "        \"epicNumber\": epicno,\n",
    "        \"captchaId\": captcha_id,\n",
    "        \"captchaData\": captcha_data,\n",
    "        \"securityKey\": \"na\"\n",
    "    }\n",
    "\n",
    "    print(data)\n",
    "\n",
    "    try:\n",
    "        response = requests.post(url, headers=headers, json=data)\n",
    "        if response.status_code == 200:\n",
    "            return response.json()\n",
    "        else:\n",
    "            print(f\"Failed to get data. Status code: {response.text }\")\n",
    "            return None\n",
    "    except requests.exceptions.RequestException as e:\n",
    "        print(f\"An error occurred: {e}\")\n",
    "        return None\n",
    "\n"
   ]
  },
  {
   "cell_type": "code",
   "execution_count": null,
   "metadata": {},
   "outputs": [],
   "source": [
    "def get_user_info(epicno):\n",
    "    got_data = False\n",
    "    while got_data == False:\n",
    "        captcha_data = get_captcha_data()\n",
    "\n",
    "        captcha = captcha_data['captcha']\n",
    "        captcha_id = captcha_data['id']\n",
    "\n",
    "        captcha_data = get_code(captcha).split(\"\\n\")[0]\n",
    "\n",
    "        print(captcha_data)\n",
    "\n",
    "\n",
    "        print(epicno, captcha_id, captcha_data)\n",
    "\n",
    "        data = get_voter_info(epicno, captcha_id, captcha_data)\n",
    "        if data != None:\n",
    "            got_data = True\n",
    "            print(data)\n",
    "        else:\n",
    "            print(\"wrong captcha\")    "
   ]
  },
  {
   "cell_type": "code",
   "execution_count": null,
   "metadata": {},
   "outputs": [],
   "source": [
    "get_user_info(\"epicnumber\")"
   ]
  },
  {
   "cell_type": "code",
   "execution_count": null,
   "metadata": {},
   "outputs": [],
   "source": []
  },
  {
   "cell_type": "code",
   "execution_count": null,
   "metadata": {},
   "outputs": [],
   "source": []
  }
 ],
 "metadata": {
  "kernelspec": {
   "display_name": "livpol",
   "language": "python",
   "name": "python3"
  },
  "language_info": {
   "codemirror_mode": {
    "name": "ipython",
    "version": 3
   },
   "file_extension": ".py",
   "mimetype": "text/x-python",
   "name": "python",
   "nbconvert_exporter": "python",
   "pygments_lexer": "ipython3",
   "version": "3.11.6"
  }
 },
 "nbformat": 4,
 "nbformat_minor": 2
}
