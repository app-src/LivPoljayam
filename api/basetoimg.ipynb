{
 "cells": [
  {
   "cell_type": "code",
   "execution_count": 9,
   "metadata": {},
   "outputs": [
    {
     "name": "stdout",
     "output_type": "stream",
     "text": [
      "Image saved as captcha_image.jpg\n"
     ]
    }
   ],
   "source": [
    "# import base64\n",
    "# import io\n",
    "\n",
    "# captcha = \"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\"\n",
    "\n",
    "# image_binary = base64.b64decode(captcha)\n",
    "# image_file = io.BytesIO(image_binary)\n",
    "# img = Image.open(image_file)\n",
    "# img.save(\"captcha.png\")\n",
    "\n",
    "# print(\"Image saved as captcha.png\")\n",
    "\n",
    "\n",
    "import base64\n",
    "import json\n",
    "\n",
    "# Your JSON response\n",
    "response = '{\"status\":\"Success\",\"statusCode\":200,\"message\":\"Captcha Generated\",\"captcha\":\"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\"}'\n",
    "\n",
    "# Parse the JSON to get the base64 string\n",
    "data = json.loads(response)\n",
    "base64_image = data['captcha']\n",
    "\n",
    "# Decode the base64 string\n",
    "image_data = base64.b64decode(base64_image)\n",
    "\n",
    "# Write the binary data to a file\n",
    "with open('captcha_image.jpg', 'wb') as file:\n",
    "    file.write(image_data)\n",
    "\n",
    "print(\"Image saved as captcha_image.jpg\")\n",
    "\n",
    "\n"
   ]
  },
  {
   "cell_type": "code",
   "execution_count": 10,
   "metadata": {},
   "outputs": [
    {
     "name": "stdout",
     "output_type": "stream",
     "text": [
      "hjmixp\n",
      "\n"
     ]
    }
   ],
   "source": [
    "import pytesseract \n",
    "import cv2\n",
    "\n",
    "img = cv2.imread('captcha_image.jpg') \n",
    "text = pytesseract.image_to_string(img)\n",
    "\n",
    "print(text.lower())"
   ]
  },
  {
   "cell_type": "code",
   "execution_count": 22,
   "metadata": {},
   "outputs": [],
   "source": [
    "import pytesseract \n",
    "import requests\n",
    "import base64\n",
    "import json\n",
    "import cv2\n"
   ]
  },
  {
   "cell_type": "code",
   "execution_count": 46,
   "metadata": {},
   "outputs": [],
   "source": [
    "\n",
    "def get_captcha_data():\n",
    "    captcha_data = None\n",
    "\n",
    "    url = 'https://gateway-voters.eci.gov.in/api/v1/captcha-service/generateCaptcha' \n",
    "\n",
    "    headers = {\n",
    "    'Accept': 'application/json, text/plain, */*',\n",
    "    'Origin': 'https://electoralsearch.eci.gov.in',\n",
    "    'appName': 'ELECTORAL_SEARCH'\n",
    "    }\n",
    "    \n",
    "    try:\n",
    "        response = requests.get(url, headers=headers)\n",
    "    \n",
    "\n",
    "        data = json.loads(response.text)\n",
    "\n",
    "        if data['status'] == 'Success' and data['statusCode'] == 200:\n",
    "            captcha_data = {\n",
    "                'captcha': data['captcha'],\n",
    "                'id': data['id']\n",
    "            }\n",
    "            # print(captcha_data)\n",
    "        else:\n",
    "            print(\"Invalid response\")\n",
    "    except Exception as e:\n",
    "        print(str(e))\n",
    "        return None    \n",
    "    return captcha_data    "
   ]
  },
  {
   "cell_type": "code",
   "execution_count": 28,
   "metadata": {},
   "outputs": [
    {
     "data": {
      "text/plain": [
       "{'captcha': '/9j/4AAQSkZJRgABAgAAAQABAAD/2wBDAAgGBgcGBQgHBwcJCQgKDBQNDAsLDBkSEw8UHRofHh0aHBwgJC4nICIsIxwcKDcpLDAxNDQ0Hyc5PTgyPC4zNDL/2wBDAQkJCQwLDBgNDRgyIRwhMjIyMjIyMjIyMjIyMjIyMjIyMjIyMjIyMjIyMjIyMjIyMjIyMjIyMjIyMjIyMjIyMjL/wAARCABQAMgDASIAAhEBAxEB/8QAHwAAAQUBAQEBAQEAAAAAAAAAAAECAwQFBgcICQoL/8QAtRAAAgEDAwIEAwUFBAQAAAF9AQIDAAQRBRIhMUEGE1FhByJxFDKBkaEII0KxwRVS0fAkM2JyggkKFhcYGRolJicoKSo0NTY3ODk6Q0RFRkdISUpTVFVWV1hZWmNkZWZnaGlqc3R1dnd4eXqDhIWGh4iJipKTlJWWl5iZmqKjpKWmp6ipqrKztLW2t7i5usLDxMXGx8jJytLT1NXW19jZ2uHi4+Tl5ufo6erx8vP09fb3+Pn6/8QAHwEAAwEBAQEBAQEBAQAAAAAAAAECAwQFBgcICQoL/8QAtREAAgECBAQDBAcFBAQAAQJ3AAECAxEEBSExBhJBUQdhcRMiMoEIFEKRobHBCSMzUvAVYnLRChYkNOEl8RcYGRomJygpKjU2Nzg5OkNERUZHSElKU1RVVldYWVpjZGVmZ2hpanN0dXZ3eHl6goOEhYaHiImKkpOUlZaXmJmaoqOkpaanqKmqsrO0tba3uLm6wsPExcbHyMnK0tPU1dbX2Nna4uPk5ebn6Onq8vP09fb3+Pn6/9oADAMBAAIRAxEAPwD3miiigQUUUUAFFFFABRRRQAUUUUAFFFFABRRRQAUUUUAFFFFABRRRQAUUUUAFFFFABRRRQAUUUUAFFFFABRVa91Cy02ETX95b2sTNsDzyqiluTjJPXg/lU0U0dxCk0MiSRSKHR0YFWU8ggjqDRcLrYfRUN1d21jbPc3dxFbwJjdLM4RVycDJPA5IFMstQstShM1heW91ErbC8Equobg4yD15H50rq9hXV7FmiiimMKKKoXut6Tpswhv8AVLK1lZd4Se4RGK8jOCenB/Kk2luJtLcv0UUUxhRRRQAUUwTRtM0IkQyoodkDDcFOQCR6Ha2PofSn0AFFFFABRRRQAUUUUAFFFFABRRRQAUUUUAefeH9NsvEPjPxRd67bRXV3a3C2sNrcwFlggGdjqHyPnxngdiRw9Hg2zfRviD4l0XTYPL0SCOCTYZGby5WRSMbmJ+Yb8nn7q8jAFUNC0C48cand+L5dSvdLguWeC1TT9sErwqQFZ3BOT8pBBHVRg4AFWfCtp/wgnjB/C7W/n2uq7rizvgmH+VSTHIeh2gHp03Zx8/y8kd4u3Xf1/wAzijvGTWl9+99vvLl5oNz4p+Isx1q13aJo8aGzjaMqs8kiqxJJGHAIIIzjhRg5bLPE2j2Xh3W/DmraLCmnXE2pQ2E62qqkc0MhJYMgGCeOv9QuO7mmjt4ZJppEjijUu7uwCqo5JJPQCvPtIhk8f+KB4gvY3TRNKmI0lVUqLhw3MpJw2MqpxgDOB/C2dJxS0W7f9fcaTglotZN/19x311d21jbPc3dxFbwJjdLM4RVycDJPA5IFc3a/EjwjeXKQRa1ErvnBmjeJeBnlmUAdO5qjrtoviH4k6Zo19sfTbKxbUWt2BKzyF/LAYZwQOCOD/EDkNXU3uiaXqOmDTbuwt5bNV2pCUAWMAFRtx90gEgEYI7VV5tvl6F805N8ttB+rXFzaaNfXNnD511FbySQxbS29wpKrgcnJwMCuT8H+CbJdH/tHX9Ot7zWNRY3V011CrbGYlgoVlGw88gDrnsBib4dTyJYatpL3FxPHpWpS2lu0ykkQrgKu/ADEYPHYEcAba0fGHiZfDWj+bCiT6lcMIrK0OS00hIHAHJAzk9M8DIJFK8ZL2khXjJKrLoZfgq3/ALI8R+JtAtppTpljJbyWsMjbvJ81C7KD1xnt+PUkmb/haPg3/oMf+Ss3/wARVjwX4ZbQbCa7vHeTWNSYXF+7YAEhydoC/KACzcjqST0wBZ8V+JYfDelGQfvdQuMxWNqql2mlPAG0EEgEjP1x1IBS5owvsKPNCne9v606oNE8Z6B4ivHtNKv/ALROkZlZPJkTCggZyygdSKm8S+IIfDelfa5IJbmaSQQW1tCpLTStnagwDjODz7cZOAcrw/p0fhPRLzW9fvnOoXarcalczsMKwHEahcjC52gL1PTjAHP+G9b0vXdel8Va5rlpbmGSSHSrGa6ji8iI8GRl3k72GQc+meRtwe0kkk92HtJKKUtJP8P6/Mzfh9b6rbfFXVo9cm83Uzp/mTtu3YLGFguRxwCBgcDGBxivX68p0nW9Jj+NOu376pZLZy2KpHcNcII3bEPAbOCeD+Rr1ajD2UWl3YsNZRaT6sKKKK3OkKKKKACiiigAooooAKKKKACiiigDzjRbnXPAMk+i3eiahqeirI7adcWEQmkVS27a4GP73U453YyMYv6Fpt74g8Yt4v1TT3sIreE2un2swZZtuWzJIM8E7nAGP4vYM3cUVkqVrK+iMVRtZX0XQ8y+IN5qWpa9Z6P/AGNrU2hW8iy3zWlqzi76MEUjHA6E7hyScZUZ24vHMdvCkMPg7xRHFGoRETTAFVRwAAG4ArsqKPZtSbT3D2UlJyUtzkvFGjaout6d4l0GJJ7+0UwT2jymMXUDH7u4naCpJYZHXnnaAaj+ONau7WOHS/BmsDUpFxi9i8mCNtpJO843AEDg7c+oPFdxRTcHe6drjdN3bi7XOb8PaRN4V8O3kt3LLqF9NJLf3fkRgmSVgCyxqMZ+6ABxk+mcDh9A1a9i8Sah4h1/wv4iub+Vtlmsens62kPPyqSV55xkKOhOfmavXKKTpbWewpUb2s7WMHRPE/8AbV49t/YetWG2MyebfWnlIcEDaDk885x7GuHs9bvZ/Fs2v614d8UTNbs8emW0GnsI4IiMFmy3LsOD1H1+Xb6tRTlBu13sOVOUrXexz2leIY/EU01hN4f1i1iaFi51GyCROvAKck5Jz09Aas/8In4c/wChf0r/AMA4/wDCtiiqUf5tSlDT3tTzjTvBUS/FHV57jQbT+xGs0+zhoIzDvIQfKvQHKSZ44zz94Z9HoopQgoXsEKahe3UKKKKssKKKKACiiigAooooAKKKKACiiigAooooAKKKKACiiigAooooAKKKKACiiigAooooAKKKKACiiigAooooAKKKKAP/2Q==',\n",
       " 'id': 'D02060DD08A4D01CE2E8446B8CA8A633'}"
      ]
     },
     "execution_count": 28,
     "metadata": {},
     "output_type": "execute_result"
    }
   ],
   "source": [
    "get_soup()"
   ]
  },
  {
   "cell_type": "code",
   "execution_count": 47,
   "metadata": {},
   "outputs": [],
   "source": [
    "def get_code(base64_image):\n",
    "    # base64_image = data['captcha']\n",
    "\n",
    "    # Decode the base64 string\n",
    "    image_data = base64.b64decode(base64_image)\n",
    "\n",
    "    # Write the binary data to a file\n",
    "    with open('captcha_image.jpg', 'wb') as file:\n",
    "        file.write(image_data)\n",
    "\n",
    "    print(\"Image saved as captcha_image.jpg\")\n",
    "\n",
    "    img = cv2.imread('captcha_image.jpg') \n",
    "    text = pytesseract.image_to_string(img)\n",
    "\n",
    "    return text.lower()\n"
   ]
  },
  {
   "cell_type": "code",
   "execution_count": 30,
   "metadata": {},
   "outputs": [
    {
     "name": "stdout",
     "output_type": "stream",
     "text": [
      "{'captcha': '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', 'id': 'ACCB37D2457ACA67285A48123DA38151'}\n"
     ]
    }
   ],
   "source": [
    "captcha_data = get_soup()\n",
    "print(captcha_data)"
   ]
  },
  {
   "cell_type": "code",
   "execution_count": 48,
   "metadata": {},
   "outputs": [
    {
     "name": "stdout",
     "output_type": "stream",
     "text": [
      "Image saved as captcha_image.jpg\n",
      "87F716BE5C02CB6A64F0D68F476B29B1 m8kmaa\n",
      "\n"
     ]
    }
   ],
   "source": [
    "captcha_data = get_soup()\n",
    "\n",
    "captcha = captcha_data['captcha']\n",
    "id = captcha_data['id']\n",
    "\n",
    "code = get_code(captcha)\n",
    "\n",
    "print(id, code )\n",
    "\n",
    "\n",
    "\n",
    "\n"
   ]
  },
  {
   "cell_type": "code",
   "execution_count": null,
   "metadata": {},
   "outputs": [],
   "source": [
    "curl 'https://gateway.eci.gov.in/api/v1/elastic/search-by-epic-from-national-display' \\\n",
    "  -H 'Accept: application/json, text/plain, */*' \\\n",
    "  -H 'Accept-Language: en-GB,en-US;q=0.9,en;q=0.8,hi;q=0.7' \\\n",
    "  -H 'Connection: keep-alive' \\\n",
    "  -H 'Content-Type: application/json' \\\n",
    "  -H 'DNT: 1' \\\n",
    "  -H 'Origin: https://electoralsearch.eci.gov.in' \\\n",
    "  -H 'Sec-Fetch-Dest: empty' \\\n",
    "  -H 'Sec-Fetch-Mode: cors' \\\n",
    "  -H 'Sec-Fetch-Site: same-site' \\\n",
    "  -H 'User-Agent: Mozilla/5.0 (X11; Linux x86_64) AppleWebKit/537.36 (KHTML, like Gecko) Chrome/119.0.0.0 Safari/537.36' \\\n",
    "  -H 'applicationName: ELECTORAL_SEARCH' \\\n",
    "  -H 'sec-ch-ua: \"Chromium\";v=\"119\", \"Not?A_Brand\";v=\"24\"' \\\n",
    "  -H 'sec-ch-ua-mobile: ?0' \\\n",
    "  -H 'sec-ch-ua-platform: \"Linux\"' \\\n",
    "  --data-raw '{\"isPortal\":true,\"epicNumber\":\"ZRS2855062\",\"captchaId\":\"87F716BE5C02CB6A64F0D68F476B29B1\",\"captchaData\":\"m8kmaa\",\"securityKey\":\"na\"}' \\\n",
    "  --compressed"
   ]
  },
  {
   "cell_type": "code",
   "execution_count": 114,
   "metadata": {},
   "outputs": [],
   "source": [
    "import requests\n",
    "import json\n",
    "\n",
    "def get_voter_info(epicno, captcha_id, captcha_data):\n",
    "    url = 'https://gateway.eci.gov.in/api/v1/elastic/search-by-epic-from-national-display'\n",
    "\n",
    "    headers = {\n",
    "        'Accept': 'application/json, text/plain, */*',\n",
    "        'Accept-Language': 'en-GB,en-US;q=0.9,en;q=0.8,hi;q=0.7',\n",
    "        'Connection': 'keep-alive',\n",
    "        'Content-Type': 'application/json',\n",
    "        'DNT': '1',\n",
    "        'Origin': 'https://electoralsearch.eci.gov.in',\n",
    "        'Sec-Fetch-Dest': 'empty',\n",
    "        'Sec-Fetch-Mode': 'cors',\n",
    "        'Sec-Fetch-Site': 'same-site',\n",
    "        'User-Agent': 'Mozilla/5.0 (X11; Linux x86_64) AppleWebKit/537.36 (KHTML, like Gecko) Chrome/119.0.0.0 Safari/537.36',\n",
    "        'applicationName': 'ELECTORAL_SEARCH',\n",
    "        'sec-ch-ua': '\"Chromium\";v=\"119\", \"Not?A_Brand\";v=\"24\"',\n",
    "        'sec-ch-ua-mobile': '?0',\n",
    "        'sec-ch-ua-platform': '\"Linux\"'\n",
    "    }\n",
    "\n",
    "    data = {\n",
    "        \"isPortal\": True,\n",
    "        \"epicNumber\": epicno,\n",
    "        \"captchaId\": captcha_id,\n",
    "        \"captchaData\": captcha_data,\n",
    "        \"securityKey\": \"na\"\n",
    "    }\n",
    "\n",
    "    print(data)\n",
    "\n",
    "    try:\n",
    "        response = requests.post(url, headers=headers, json=data)\n",
    "        if response.status_code == 200:\n",
    "            return response.json()\n",
    "        else:\n",
    "            print(f\"Failed to get data. Status code: {response.text }\")\n",
    "            return None\n",
    "    except requests.exceptions.RequestException as e:\n",
    "        print(f\"An error occurred: {e}\")\n",
    "        return None\n",
    "\n",
    "# epicno = \"ZRS2855062\" \n",
    "# captcha_id = \"967A07FFA18E6A3ACF254FBA8E6F631A\"\n",
    "# captcha_data = \"hjmixp\"\n",
    "\n",
    "# data = get_voter_info(epicno, captcha_id, captcha_data)\n",
    "# print(data)"
   ]
  },
  {
   "cell_type": "code",
   "execution_count": 105,
   "metadata": {},
   "outputs": [],
   "source": [
    "# import subprocess\n",
    "# import json\n",
    "\n",
    "# def get_voter_info(epicno, captcha_id, captcha_data):\n",
    "#     command = \"curl 'https://gateway.eci.gov.in/api/v1/elastic/search-by-epic-from-national-display' \" \\\n",
    "#           \"-H 'Accept: application/json, text/plain, */*' \" \\\n",
    "#           \"-H 'Accept-Language: en-GB,en-US;q=0.9,en;q=0.8,hi;q=0.7' \" \\\n",
    "#           \"-H 'Connection: keep-alive' \" \\\n",
    "#           \"-H 'Content-Type: application/json' \" \\\n",
    "#           \"-H 'DNT: 1' \" \\\n",
    "#           \"-H 'Origin: https://electoralsearch.eci.gov.in' \" \\\n",
    "#           \"-H 'Sec-Fetch-Dest: empty' \" \\\n",
    "#           \"-H 'Sec-Fetch-Mode: cors' \" \\\n",
    "#           \"-H 'Sec-Fetch-Site: same-site' \" \\\n",
    "#           \"-H 'User-Agent: Mozilla/5.0 (X11; Linux x86_64) AppleWebKit/537.36 (KHTML, like Gecko) Chrome/119.0.0.0 Safari/537.36' \" \\\n",
    "#           \"-H 'applicationName: ELECTORAL_SEARCH' \" \\\n",
    "#           \"-H 'sec-ch-ua: \\\"Chromium\\\";v=\\\"119\\\", \\\"Not?A_Brand\\\";v=\\\"24\\\"' \" \\\n",
    "#           \"-H 'sec-ch-ua-mobile: ?0' \" \\\n",
    "#           \"-H 'sec-ch-ua-platform: \\\"Linux\\\"' \" \\\n",
    "#           \"--data-raw '{\\\"isPortal\\\":true,\\\"epicNumber\\\":\\\"\"+\"hjhjkhkj\"+\"\\\",\\\"captchaId\\\":\\\"\"+\"jhgjhjkhjhk\"+\"\\\",\\\"captchaData\\\":\\\"\"+\"kkjhjhjk\"+\"\\\",\\\"securityKey\\\":\\\"na\\\"}' \" \\\n",
    "#           \"--compressed\"\n",
    "#     print(command.split())\n",
    "\n",
    "\n",
    "#     # try:\n",
    "#     #     result = subprocess.run(command, shell=True, check=True, stdout=subprocess.PIPE, stderr=subprocess.PIPE, text=True)\n",
    "#     #     return result.stdout\n",
    "#     # except subprocess.CalledProcessError as e:\n",
    "#     #     print(f\"Error: {e.returncode}, {e.stderr}\")\n",
    "#     #     return None\n",
    "\n",
    "# # Example usage\n",
    "# # epicno = \"Your_Epic_Number\"\n",
    "# # captcha_id = \"Your_Captcha_Id\"\n",
    "# # captcha_data = \"Your_Captcha_Data\"\n",
    "\n",
    "# # response = perform_curl_request(epicno, captcha_id, captcha_data)\n",
    "# # print(response)\n"
   ]
  },
  {
   "cell_type": "code",
   "execution_count": 84,
   "metadata": {},
   "outputs": [
    {
     "name": "stdout",
     "output_type": "stream",
     "text": [
      "[{\"index\":\"national-electoral-display\",\"id\":\"68375803_ZRS2855062_S25\",\"score\":17.278444,\"sortValues\":[],\"content\":{\"id\":\"68375803_ZRS2855062_S25\",\"epicId\":68375803,\"epicNumber\":\"ZRS2855062\",\"formReferenceNo\":null,\"applicantFirstName\":\"ADITYA\",\"applicantFirstNameL1\":\"আদিত্য\",\"applicantFirstNameL2\":null,\"applicantLastName\":\"PASWAN\",\"applicantLastNameL1\":\"পাসওয়ান\",\"applicantLastNameL2\":null,\"relationName\":\"BIRENDRA\",\"relationNameL1\":\"বীরেন্দ্র\",\"relationNameL2\":null,\"age\":20,\"gender\":\"M\",\"partNumber\":40,\"partId\":19083,\"partName\":\"Kedarnath Hindi Primary School \",\"partNameL1\":\"কেদারনাথ হিন্দী প্রাইমারী স্কুল \",\"partSerialNumber\":437,\"asmblyName\":\"Matigara-Naxalbari\",\"asmblyNameL1\":\"মাটিগাড়া - নক্সালবাড়ি\",\"acId\":26,\"acNumber\":25,\"prlmntName\":\"DARJEELING\",\"prlmntNameL1\":\"দার্জিলিং\",\"prlmntNo\":\"4\",\"districtValue\":\"DARJEELING\",\"districtValueL1\":\"দার্জিলিং\",\"districtCd\":\"S2503\",\"districtId\":3,\"districtNo\":3,\"stateName\":\"West Bengal\",\"stateNameL1\":\"पश्चिम बंगाल\",\"stateId\":24,\"stateCd\":\"S25\",\"isActive\":true,\"formType\":null,\"relationType\":\"FTHR\",\"createdDttm\":\"2023-05-27 23:45:30\",\"modifiedDttm\":null,\"genderL1\":null,\"isDeleted\":false,\"processType\":null,\"relationLName\":\"PASWAN\",\"relationLNameL1\":\"পাসওয়ান\",\"relationTypeL1\":null,\"revisionId\":0,\"statusType\":\"N\",\"sectionNo\":1,\"pollingDate\":null,\"electionDate\":null,\"electionTime\":null,\"psbuildingName\":\"Kedarnath Hindi Primary School\",\"birthYear\":2003,\"partLatLong\":\"7.7132030682804-40.005059614777565\",\"disabilityAny\":null,\"disabilityType\":null,\"isForm8Migration\":null,\"isLocomotorDisabled\":null,\"isSpeechHearingDisabled\":null,\"isVisuallyImpaired\":null,\"otherDisability\":null,\"isValidated\":null,\"isWheelchairRequired\":null,\"pwdMarkingFormType\":null,\"pwdMarkingRefNo\":null,\"pwd\":\"N\",\"isVip\":null,\"epicDatetime\":\"2023-12-10T03:40:14.165+00:00\",\"fullName\":\"aditya paswan\",\"fullNameL1\":\"আদিত্য পাসওয়ান\",\"relativeFullName\":\"birendra paswan\",\"relativeFullNameL1\":\"বীরেন্দ্র পাসওয়ান\",\"psRoomDetails\":\"\",\"psRoomDetailsL1\":\"\",\"psBuildingNameL1\":\"কেদারনাথ হিন্দী প্রাইমারী স্কুল\",\"buildingAddress\":\"Sahajramjote, Upper Bagdogra\",\"buildingAddressL1\":\"সহজরামজোত, আপার বাগডোগড়া\"},\"highlightFields\":{},\"innerHits\":{},\"nestedMetaData\":null,\"routing\":null,\"explanation\":null,\"matchedQueries\":[]}]\n"
     ]
    }
   ],
   "source": [
    "# import subprocess\n",
    "\n",
    "# def perform_curl_request_as_string(command):\n",
    "#     try:\n",
    "#         result = subprocess.run(command, shell=True, check=True, stdout=subprocess.PIPE, stderr=subprocess.PIPE, text=True)\n",
    "#         return result.stdout\n",
    "#     except subprocess.CalledProcessError as e:\n",
    "#         return f\"Error: {e.returncode}, {e.stderr}\"\n",
    "\n",
    "# # Example usage\n",
    "# command = \"curl 'https://gateway.eci.gov.in/api/v1/elastic/search-by-epic-from-national-display' -H 'Accept: application/json, text/plain, */*' -H 'Accept-Language: en-GB,en-US;q=0.9,en;q=0.8,hi;q=0.7' -H 'Connection: keep-alive' -H 'Content-Type: application/json' -H 'DNT: 1' -H 'Origin: https://electoralsearch.eci.gov.in' -H 'Sec-Fetch-Dest: empty' -H 'Sec-Fetch-Mode: cors' -H 'Sec-Fetch-Site: same-site' -H 'User-Agent: Mozilla/5.0 (X11; Linux x86_64) AppleWebKit/537.36 (KHTML, like Gecko) Chrome/119.0.0.0 Safari/537.36' -H 'applicationName: ELECTORAL_SEARCH' -H 'sec-ch-ua: \\\"Chromium\\\";v=\\\"119\\\", \\\"Not?A_Brand\\\";v=\\\"24\\\"' -H 'sec-ch-ua-mobile: ?0' -H 'sec-ch-ua-platform: \\\"Linux\\\"' --data-raw '{\\\"isPortal\\\":true,\\\"epicNumber\\\":\\\"ZRS2855062\\\",\\\"captchaId\\\":\\\"142CE46F02549624447ECAEC86D292E1\\\",\\\"captchaData\\\":\\\"nacrfb\\\",\\\"securityKey\\\":\\\"na\\\"}' --compressed\"\n",
    "\n",
    "# response = perform_curl_request_as_string(command)\n",
    "# print(response)"
   ]
  },
  {
   "cell_type": "code",
   "execution_count": 124,
   "metadata": {},
   "outputs": [],
   "source": [
    "def get_user_info():\n",
    "    got_data = False\n",
    "    while got_data == False:\n",
    "        captcha_data = get_captcha_data()\n",
    "\n",
    "        captcha = captcha_data['captcha']\n",
    "        captcha_id = captcha_data['id']\n",
    "\n",
    "        captcha_data = get_code(captcha).split(\"\\n\")[0]\n",
    "\n",
    "        print(captcha_data)\n",
    "\n",
    "        epicno = \"ZRS2855062\" \n",
    "        # captcha_id = \"967A07FFA18E6A3ACF254FBA8E6F631A\"\n",
    "        # captcha_data = \"hjmixp\"\n",
    "\n",
    "        print(epicno, captcha_id, captcha_data)\n",
    "\n",
    "        data = get_voter_info(epicno, captcha_id, captcha_data)\n",
    "        if data != None:\n",
    "            got_data = True\n",
    "            print(data)\n",
    "        else:\n",
    "            print(\"wrong captcha\")    "
   ]
  },
  {
   "cell_type": "code",
   "execution_count": 126,
   "metadata": {},
   "outputs": [
    {
     "name": "stdout",
     "output_type": "stream",
     "text": [
      "Image saved as captcha_image.jpg\n",
      "mvdonz\n",
      "ZRS2855062 E6F3E6E5062DA2E09BE428FE2A213798 mvdonz\n",
      "{'isPortal': True, 'epicNumber': 'ZRS2855062', 'captchaId': 'E6F3E6E5062DA2E09BE428FE2A213798', 'captchaData': 'mvdonz', 'securityKey': 'na'}\n",
      "Failed to get data. Status code: []\n",
      "wrong captcha\n",
      "Image saved as captcha_image.jpg\n",
      "vhlg97\n",
      "ZRS2855062 6962A381743C9861F8D51542752A72F4 vhlg97\n",
      "{'isPortal': True, 'epicNumber': 'ZRS2855062', 'captchaId': '6962A381743C9861F8D51542752A72F4', 'captchaData': 'vhlg97', 'securityKey': 'na'}\n",
      "Failed to get data. Status code: []\n",
      "wrong captcha\n",
      "Image saved as captcha_image.jpg\n",
      "yqs5771\n",
      "ZRS2855062 8E480C254EA99CD366CBA68495538FC2 yqs5771\n",
      "{'isPortal': True, 'epicNumber': 'ZRS2855062', 'captchaId': '8E480C254EA99CD366CBA68495538FC2', 'captchaData': 'yqs5771', 'securityKey': 'na'}\n",
      "Failed to get data. Status code: []\n",
      "wrong captcha\n",
      "Image saved as captcha_image.jpg\n",
      "tv9z6d\n",
      "ZRS2855062 5809A8499DB0672F246C73492DCEFCEB tv9z6d\n",
      "{'isPortal': True, 'epicNumber': 'ZRS2855062', 'captchaId': '5809A8499DB0672F246C73492DCEFCEB', 'captchaData': 'tv9z6d', 'securityKey': 'na'}\n",
      "[{'index': 'national-electoral-display', 'id': '68375803_ZRS2855062_S25', 'score': 17.278444, 'sortValues': [], 'content': {'id': '68375803_ZRS2855062_S25', 'epicId': 68375803, 'epicNumber': 'ZRS2855062', 'formReferenceNo': None, 'applicantFirstName': 'ADITYA', 'applicantFirstNameL1': 'আদিত্য', 'applicantFirstNameL2': None, 'applicantLastName': 'PASWAN', 'applicantLastNameL1': 'পাসওয়ান', 'applicantLastNameL2': None, 'relationName': 'BIRENDRA', 'relationNameL1': 'বীরেন্দ্র', 'relationNameL2': None, 'age': 20, 'gender': 'M', 'partNumber': 40, 'partId': 19083, 'partName': 'Kedarnath Hindi Primary School ', 'partNameL1': 'কেদারনাথ হিন্দী প্রাইমারী স্কুল ', 'partSerialNumber': 437, 'asmblyName': 'Matigara-Naxalbari', 'asmblyNameL1': 'মাটিগাড়া - নক্সালবাড়ি', 'acId': 26, 'acNumber': 25, 'prlmntName': 'DARJEELING', 'prlmntNameL1': 'দার্জিলিং', 'prlmntNo': '4', 'districtValue': 'DARJEELING', 'districtValueL1': 'দার্জিলিং', 'districtCd': 'S2503', 'districtId': 3, 'districtNo': 3, 'stateName': 'West Bengal', 'stateNameL1': 'पश्चिम बंगाल', 'stateId': 24, 'stateCd': 'S25', 'isActive': True, 'formType': None, 'relationType': 'FTHR', 'createdDttm': '2023-05-27 23:45:30', 'modifiedDttm': None, 'genderL1': None, 'isDeleted': False, 'processType': None, 'relationLName': 'PASWAN', 'relationLNameL1': 'পাসওয়ান', 'relationTypeL1': None, 'revisionId': 0, 'statusType': 'N', 'sectionNo': 1, 'pollingDate': None, 'electionDate': None, 'electionTime': None, 'psbuildingName': 'Kedarnath Hindi Primary School', 'birthYear': 2003, 'partLatLong': '7.7132030682804-40.005059614777565', 'disabilityAny': None, 'disabilityType': None, 'isForm8Migration': None, 'isLocomotorDisabled': None, 'isSpeechHearingDisabled': None, 'isVisuallyImpaired': None, 'otherDisability': None, 'isValidated': None, 'isWheelchairRequired': None, 'pwdMarkingFormType': None, 'pwdMarkingRefNo': None, 'pwd': 'N', 'isVip': None, 'epicDatetime': '2023-12-10T03:40:14.165+00:00', 'fullName': 'aditya paswan', 'fullNameL1': 'আদিত্য পাসওয়ান', 'relativeFullName': 'birendra paswan', 'relativeFullNameL1': 'বীরেন্দ্র পাসওয়ান', 'psRoomDetails': '', 'psRoomDetailsL1': '', 'psBuildingNameL1': 'কেদারনাথ হিন্দী প্রাইমারী স্কুল', 'buildingAddress': 'Sahajramjote, Upper Bagdogra', 'buildingAddressL1': 'সহজরামজোত, আপার বাগডোগড়া'}, 'highlightFields': {}, 'innerHits': {}, 'nestedMetaData': None, 'routing': None, 'explanation': None, 'matchedQueries': []}]\n"
     ]
    }
   ],
   "source": [
    "get_user_info()"
   ]
  },
  {
   "cell_type": "code",
   "execution_count": 129,
   "metadata": {},
   "outputs": [
    {
     "name": "stdout",
     "output_type": "stream",
     "text": [
      "Location not found\n"
     ]
    }
   ],
   "source": []
  },
  {
   "cell_type": "code",
   "execution_count": null,
   "metadata": {},
   "outputs": [],
   "source": []
  }
 ],
 "metadata": {
  "kernelspec": {
   "display_name": "livpol",
   "language": "python",
   "name": "python3"
  },
  "language_info": {
   "codemirror_mode": {
    "name": "ipython",
    "version": 3
   },
   "file_extension": ".py",
   "mimetype": "text/x-python",
   "name": "python",
   "nbconvert_exporter": "python",
   "pygments_lexer": "ipython3",
   "version": "3.11.6"
  }
 },
 "nbformat": 4,
 "nbformat_minor": 2
}
